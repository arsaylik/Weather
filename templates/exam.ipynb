{
 "cells": [
  {
   "cell_type": "code",
   "execution_count": 9,
   "metadata": {},
   "outputs": [
    {
     "name": "stdout",
     "output_type": "stream",
     "text": [
      "31 °C\n"
     ]
    }
   ],
   "source": [
    "import json\n",
    "import requests\n",
    "from bs4 import BeautifulSoup\n",
    "import flask \n",
    "\n",
    "def get_weather():\n",
    "\n",
    "    def get_soup(TARGET_URL):\n",
    "        page = requests.get(TARGET_URL)\n",
    "        soup = BeautifulSoup(page.text, 'html.parser')\n",
    "        return soup\n",
    "\n",
    "\n",
    "    variable = input(\"Hava durumu gösterilmek istenen ilin adını girin: \")\n",
    "\n",
    "    URL = f'https://www.timeanddate.com/weather/turkey/{variable.lower()}'\n",
    "\n",
    "    soup = get_soup(URL)\n",
    "\n",
    "    exam = soup.find(name='div', class_='h2')\n",
    "    print(exam.text)\n",
    "\n",
    "    weather_data = [{'city': variable, 'weather_info': exam.text}]\n",
    "\n",
    "    try:\n",
    "        with open('hava_durumu.json', 'r') as f:\n",
    "            existing_data = json.load(f)\n",
    "            if isinstance(existing_data, list):\n",
    "                weather_data += existing_data\n",
    "    except (FileNotFoundError, json.JSONDecodeError):\n",
    "        pass\n",
    "\n",
    "    with open('hava_durumu.json', 'w') as f:\n",
    "        json.dump(weather_data, f, indent=4, ensure_ascii=False)\n",
    "        \n",
    "get_weather()\n"
   ]
  }
 ],
 "metadata": {
  "kernelspec": {
   "display_name": "base",
   "language": "python",
   "name": "python3"
  },
  "language_info": {
   "codemirror_mode": {
    "name": "ipython",
    "version": 3
   },
   "file_extension": ".py",
   "mimetype": "text/x-python",
   "name": "python",
   "nbconvert_exporter": "python",
   "pygments_lexer": "ipython3",
   "version": "3.9.12"
  },
  "orig_nbformat": 4
 },
 "nbformat": 4,
 "nbformat_minor": 2
}
